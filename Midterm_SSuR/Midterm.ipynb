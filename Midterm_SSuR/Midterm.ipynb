{
 "cells": [
  {
   "cell_type": "markdown",
   "metadata": {},
   "source": [
    "## Midterm project : your first R package\n",
    "\n",
    "This document explain how to build your own R package and distribute via Github.\n",
    "\n",
    "### Prerequisite\n",
    "\n",
    "* What is R package?  \n",
    "  * https://r-pkgs.org/intro.html\n",
    "\n",
    "* What is Github?\n",
    "  * https://r-pkgs.org/git.html\n",
    "\n",
    "* Github account  \n",
    "  * Go to the Github site and sign up.\n",
    "  * https://github.com\n",
    "  \n",
    "* Think about what R package to create."
   ]
  },
  {
   "cell_type": "markdown",
   "metadata": {},
   "source": [
    "### Server or your PC\n",
    "\n",
    "* You can use ksublee.dev:8787 Rstudio server or your own Rstudo in your computer.  \n",
    "* However, to use your PC and Rstudio, you should install relevant packages, such as devtools and git.\n",
    "* This document is based on ksublee.dev:8787 where I already installed necessary tools."
   ]
  },
  {
   "cell_type": "markdown",
   "metadata": {},
   "source": [
    "### Create R project \n",
    "\n",
    "* First, connect to https://ksublee.dev:8787.\n",
    "* File -> New Project\n",
    "\n",
    "<img src=\"./create_project.png\" width=700>\n",
    "\n",
    "* New Directory.\n",
    "\n",
    "<img src=\"./new_project_new_directory.png\" width=500>\n",
    "\n",
    "* Select R package.\n",
    "\n",
    "<img src=\"./create_R_package.png\" width=500>\n",
    "\n",
    "* Give an appropriate package name and check 'Create a git repository'.\n",
    "  * My package name is 'mypascal', but yours should be different one.\n",
    "* Click 'Create Project'.\n",
    "\n",
    "<img src=\"./create_pascal.png\" width=500>\n",
    "\n",
    "* Now you can see automatically generated default package.\n",
    "* In 'R' directory, your source code will be placed.\n",
    "\n",
    "<img src=\"./R_directory.png\" width=700>"
   ]
  },
  {
   "cell_type": "markdown",
   "metadata": {},
   "source": [
    "### Write code and save\n",
    "\n",
    "\n",
    "* Open an empty script file and write some functions for your package.\n",
    "* Your code shoud have the following form with comments.\n",
    "  * Instead of ***Title of function***, write the title of your function.\n",
    "  * Instead of ***Description of function***, write the description of your function.\n",
    "  * Under ```@examples```, write an example code based on your function.\n",
    "  * Your function do not have to be named as ```yourfunction```. use an appropriate name."
   ]
  },
  {
   "cell_type": "code",
   "execution_count": 2,
   "metadata": {},
   "outputs": [],
   "source": [
    "#' Title of function\n",
    "#'\n",
    "#' Description of function\n",
    "#'\n",
    "#' @examples\n",
    "#'\n",
    "#' yourfunction()\n",
    "yourfunction <- function() {\n",
    "  # do something important thing\n",
    "  \n",
    "}"
   ]
  },
  {
   "cell_type": "markdown",
   "metadata": {},
   "source": [
    "* Save source code in R directory.\n",
    "  * You can use any name for the file.\n",
    "  * My code is based on http://rosettacode.org/wiki/Pascal%27s_triangle#R\n",
    "  \n",
    "<img src=\"save_source_code.png\" width=700>"
   ]
  },
  {
   "cell_type": "markdown",
   "metadata": {},
   "source": [
    "### Make document and check package\n",
    "\n",
    "* In R console, run ```devtools::document()```.\n",
    "  * This function makes document based on comments you created in the previous section.\n",
    "  \n",
    "<img src=\"./document.png\">\n",
    "\n",
    "* In Build tab in the right upper section in R studio, you can check the validity of your package.\n",
    "\n",
    "<img src=\"./check_package.png\" width=500>\n",
    "\n",
    "* You should have no error, if you have, then fix it and rerun check.\n",
    "\n",
    "<img src=\"./no_error.png\" width=500>"
   ]
  },
  {
   "cell_type": "markdown",
   "metadata": {},
   "source": [
    "### Git commit\n",
    "\n",
    "* In the right upper section of Rstudio, you see Git tab.\n",
    "\n",
    "* Add updated file and commit in the following order.\n",
    "\n",
    "<img src=\"./git_commit.png\" width=500>\n",
    "\n",
    "* Now you can see an window for commit message. Write a summary of what you have done.\n",
    "\n",
    "<img src=\"./commit_message.png\" width=700>"
   ]
  },
  {
   "cell_type": "markdown",
   "metadata": {},
   "source": [
    "### Create Github repository\n",
    "\n",
    "* Now go to : https://github.com\n",
    "* Create empty github repository.\n",
    "\n",
    "<img src=\"./github_repo.png\" width=700>\n",
    "\n",
    "* The repository name should be same with your R package name.\n",
    "  * Instead of ***your_repo_name***, use your R package name.\n",
    "\n",
    "<img src=\"./create_github_repo.png\" width=700>\n",
    "\n",
    "* If an empty repository is created, then copy the url.\n",
    "  * It has the form ```https://github.com/username/reponame.git```\n",
    "\n",
    "<img src=\"./url.png\">"
   ]
  },
  {
   "cell_type": "markdown",
   "metadata": {},
   "source": [
    "### Push to Github\n",
    "\n",
    "* Now go back to Rsutdio.\n",
    "* Open Termial and add git remote repository with the following step.\n",
    "  * ```cd mypascal``` impiles move to your working directory of R package.\n",
    "  * Therefore, you should use your R package name instead of ***mypascal***.\n",
    "  * In ```git remote add origin https://github.com/ksublee/mypascal.git```, you should use your url that you copied  from your new Github repo.\n",
    "  * ```git push origin master```\n",
    "  * You should use your Github username and password.\n",
    "\n",
    "<img src=\"./git_remote_add.png\" width=600>\n",
    "\n",
    "* You might encounter errors saying ```cannot run rpostbak=askpass ... ```, but it seems not a big deal.\n",
    "* Check your Github repo changed.\n",
    "\n",
    "<img src=\"./github_update.png\" width=700>"
   ]
  },
  {
   "cell_type": "markdown",
   "metadata": {},
   "source": [
    "### Install your package from Github\n",
    "\n",
    "* First close your project from Rstudio.\n",
    "\n",
    "<img src=\"./close_project.png\" width=450>\n",
    "\n",
    "* Open an empty Rscript and run the following code.  \n",
    "  * In ```devtools::install_github(\"ksublee/mypascal\")```, instead of ***ksublee/mypascal***, use your ***githubusername/reponame***.\n",
    "  * In ```library(mypascal)```, instead of ***mypascal***, use your R package name.\n",
    "  * Instead of ```pascalTriangle(5)```, run your example code.\n",
    "  \n",
    "<img src=\"./test.png\" width=700>\n",
    "\n",
    "* Check help page.\n",
    "  * You use your package name instead of ***mypascal***.\n",
    "  * You use your function name instead of ***pascalTriangle***.\n",
    "  \n",
    "<img src=\"./help.png\" width=800>\n",
    "\n",
    "* If all works fine, you have done well!"
   ]
  }
 ],
 "metadata": {
  "jupytext": {
   "formats": "ipynb,Rmd"
  },
  "kernelspec": {
   "display_name": "R 3.6",
   "language": "R",
   "name": "ir"
  },
  "language_info": {
   "codemirror_mode": "r",
   "file_extension": ".r",
   "mimetype": "text/x-r-source",
   "name": "R",
   "pygments_lexer": "r",
   "version": "3.6.0"
  }
 },
 "nbformat": 4,
 "nbformat_minor": 4
}
